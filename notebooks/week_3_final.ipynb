{
 "cells": [
  {
   "cell_type": "markdown",
   "metadata": {},
   "source": [
    "# Direct detection of Dark Matter\n",
    "\n",
    "###  Pepijn Clarijs, Harm van Leijen, Matthijs Laan en Kerwin Buijsman"
   ]
  },
  {
   "cell_type": "code",
   "execution_count": 3,
   "metadata": {},
   "outputs": [],
   "source": [
    "import matplotlib.pyplot as plt\n",
    "import numpy as np\n",
    "import seaborn as sns\n",
    "import math\n",
    "from scipy.stats import chisquare\n",
    "from scipy.stats import poisson\n",
    "from matplotlib import ticker, cm\n",
    "from scipy import stats"
   ]
  },
  {
   "cell_type": "markdown",
   "metadata": {},
   "source": [
    "The following distribution is called a Poisson distribution, and it is assumed that measuring DM interaction events varies from the true value by this value. The formula looks like \n",
    " \n",
    "$P = \\frac{e^{-\\lambda}\\cdot \\lambda ^ k}{k!}$"
   ]
  },
  {
   "cell_type": "code",
   "execution_count": 4,
   "metadata": {},
   "outputs": [
    {
     "data": {
      "image/png": "[encoded data removed]",
      "text/plain": [
       "<Figure size 432x288 with 1 Axes>"
      ]
     },
     "metadata": {
      "needs_background": "light"
     },
     "output_type": "display_data"
    }
   ],
   "source": [
    "k = np.linspace(0,10,10000)\n",
    "data_poisson = poisson.rvs(mu=3, size=10000)\n",
    "ax = sns.distplot(data_poisson,\n",
    "                  bins=30,\n",
    "                  kde=False,\n",
    "                  color='skyblue',\n",
    "                  hist_kws={\"linewidth\": 15,'alpha':1})\n",
    "ax.set(xlabel='Poisson Distribution', ylabel='Frequency')\n",
    "plt.show()"
   ]
  },
  {
   "cell_type": "markdown",
   "metadata": {},
   "source": [
    "Since the number of measured events is zero, and the expected number of background events is zero as well, a lambda value of 3 is the maximum number of expected events to include zero events at a 95% confidence level. This can be demonstrated by plugging in the number of measured events for k, and the number of expected events for lambda."
   ]
  },
  {
   "cell_type": "code",
   "execution_count": 5,
   "metadata": {},
   "outputs": [
    {
     "name": "stdout",
     "output_type": "stream",
     "text": [
      "Cap at 95 % Confidence level\n",
      "maximum expected events when measuring zero events: 2.99573227355399\n"
     ]
    }
   ],
   "source": [
    "CL = 95\n",
    "expected = - np.log(1-CL/100)\n",
    "print(\"Cap at\", CL,\"% Confidence level\")\n",
    "print(\"maximum expected events when measuring zero events:\", expected)"
   ]
  },
  {
   "cell_type": "markdown",
   "metadata": {},
   "source": [
    "This is the reason why 3 events is the number used for the following analysis. Limits on the DM cross section are calculated as a function of DM mass, for a setup consisting of 500 kg of Xenon, over an observation period of one year.   "
   ]
  },
  {
   "cell_type": "code",
   "execution_count": 6,
   "metadata": {},
   "outputs": [],
   "source": [
    "# First we define the units. We work in cgs.\n",
    "\n",
    "# Units:\n",
    "g = 1.\n",
    "cm = 1.\n",
    "s = 1.\n",
    "erg = 1.\n",
    "eV = 1.60217662 * 10**(-12) * erg\n",
    "keV = 10**3 * eV\n",
    "MeV = 10**6 * eV\n",
    "GeV = 10**9 * eV\n",
    "kg = 10**3 * g\n",
    "km = 10**5 * cm\n",
    "hour = 60 * 60 * s\n",
    "year = 31557600 * s\n",
    "u = 1.660538782 * 10**(-24) * g\n",
    "c = 2.99792458 * 10**(10) * cm/s\n",
    "ev_joule = 1.6 * 10**(-19)\n",
    "\n",
    "# Constants:\n",
    "rho = 0.3 * GeV / (c**2) /cm**3 # dm mass density in g/cm**3\n",
    "N_A = 6.022140857 * 10**23 # mol**(-1) \n",
    "A = 130 # g/mol\n",
    "v_0 = 220. * km/s # so in cm/s\n",
    "v_avg = 2 * v_0 / (np.sqrt(np.pi)) # in cm/s\n",
    "m_proton = 1.67262192369 * 10**(-27) * kg # in g\n",
    "m_xenon = m_proton #A*u # in g"
   ]
  },
  {
   "cell_type": "markdown",
   "metadata": {},
   "source": [
    "To plot the dark matter mass to the cross-section, we are integrating $\\frac{dR(E_R)}{dE_R}$ from $3$ to infinity\n",
    "\n",
    "we find $R = R_0e^{-\\frac{3keV}{rE_0}}$. Using that $N = R \\times 500 kg \\times 1 year = 3$ and $R_0 = \\frac{NA\\rho \\mu^2A^2<v>\\sigma}{Am{\\chi}m_p^2}$, we find the expression for the cross section to be: $\\sigma = \\frac{3}{500\\times kg \\times year}(\\frac{mp^2m{\\chi}}{N_A\\rho A<v>\\mu^2})e^{-\\frac{3keV}{rE_0}}$."
   ]
  },
  {
   "cell_type": "code",
   "execution_count": 7,
   "metadata": {},
   "outputs": [],
   "source": [
    "# The needed functions\n",
    "\n",
    "def mu(m_dm):\n",
    "    return (m_dm * m_xenon) / (m_dm + m_xenon)\n",
    "\n",
    "def r(m_dm):\n",
    "    return (4 * (mu(m_dm)**2)) / (m_dm * m_xenon)\n",
    "\n",
    "def E_0(m_dm):\n",
    "    return (1. / 2.) * m_dm * v_0**2\n",
    "\n",
    "def exponential(m_dm):\n",
    "    return np.exp((3 * keV) / (r(m_dm) * E_0(m_dm)))\n",
    "\n",
    "def sigma(m_dm):    \n",
    "    N_factor = 3 / (500 * kg * year)\n",
    "    constants = (m_proton**2) / (N_A * rho * A**(3) * v_avg)\n",
    "    return N_factor * constants * (m_dm / (mu(m_dm)**2)) * exponential(m_dm)\n"
   ]
  },
  {
   "cell_type": "code",
   "execution_count": 8,
   "metadata": {},
   "outputs": [
    {
     "data": {
      "image/png": "[encoded data removed]",
      "text/plain": [
       "<Figure size 432x288 with 1 Axes>"
      ]
     },
     "metadata": {
      "needs_background": "light"
     },
     "output_type": "display_data"
    }
   ],
   "source": [
    "# Now to plot the cross section against the WIMP mass\n",
    "m_dm1 = 10**2 * (GeV / (c**2))\n",
    "\n",
    "list_mass_dm = np.linspace(1 * GeV/ c**2, 1000 * GeV/c**2, 10000)\n",
    "sigma_dm_list = []\n",
    "list_exponent = []\n",
    "\n",
    "\n",
    "for m in list_mass_dm:\n",
    "    sigma_dm_list.append(sigma(m))\n",
    "    list_exponent.append(exponential(m))\n",
    "    \n",
    "    \n",
    "plt.plot(list_mass_dm * c**2 / GeV,sigma_dm_list)\n",
    "plt.xscale('log')\n",
    "plt.yscale('log')\n",
    "plt.ylabel(\"cross - section (cm^2)\")\n",
    "plt.xlabel(\"DM mass (GeV / c^2)\")\n",
    "plt.show()\n"
   ]
  },
  {
   "cell_type": "markdown",
   "metadata": {},
   "source": [
    "When we compare our predicted constraints with the latest published constraints from the Xenon-1T experiment, we see that our graph is a little bit different. The minimum of the graph from the experiment is around (30, 4 * $10^{-47}$) and our minimum is around (8, 8 * $10^{-48}$). The shape of our graph is similar to that of the graph of the experiment. We went over the whole process a couple of times, but unfortunately we always end up with a wrong prediction of the constraints. We use the same method  in the next part of the exercise to calculate the expected number of events, so we will also get some wrong numbers. "
   ]
  },
  {
   "cell_type": "markdown",
   "metadata": {},
   "source": [
    "Next we want to calculate the expected events for the energy bands 3 - 10 keV and 10 - 20 keV. We do this by using: expected events = R x 500 kg x 1 year. We calculate R now by integrating from 3 - 10 keV and 10 - 20 keV instead of 3 - $\\infty$ keV. We can calculate the value of R for every possible combination of dm mass and cross-section. We are using the same derivation as above, but now want an expression for R instead of $\\sigma$. We get \n",
    "\n",
    "$R = R_0 (- e^{-\\frac{10keV}{rE_0}} + e^{-\\frac{3keV}{rE_0}})$ and $R = R_0 (- e^{-\\frac{20keV}{rE_0}} + e^{-\\frac{10keV}{rE_0}})$ with $R_0 = \\frac{NA\\rho \\mu^2A^2<v>\\sigma}{Am{\\chi}m_p^2}$\n",
    "\n",
    "We can calculate the best-fit point by measuring the minimum chi-square value. The corresponding values of the dm mass and cross section are the best fit point. We can calculate the (weighted) ${\\chi}^2$ by: ${\\chi}^2=\\frac{1}{d}\\sum_{i=1}^{k} \\frac{(O_i - E_i)^2}{E_i}$. Here is d the number of degrees of freedom, $O_i$ the observed value and $E_i$ the expected value. In our case we have 2 values observed (1 degrees of freedom); 10 events for a recoil energy of 3 - 10 keV and 5 events for a recoil energy of 10 - 20 keV. Now we can calculate our best-fit point."
   ]
  },
  {
   "cell_type": "code",
   "execution_count": 9,
   "metadata": {},
   "outputs": [],
   "source": [
    "def exponential(m_dm,recoil):\n",
    "    return np.exp(-1 * (recoil * keV) / (r(m_dm) * E_0(m_dm)))\n",
    "\n",
    "# Calculate the value of R for a given recoil energy range, dm mass and cross section\n",
    "def R(m_dm,Er_min,Er_max,sigma):\n",
    "    constants = (N_A * rho * A**(3) * v_avg)/(m_proton**2) \n",
    "    return constants * mu(m_dm)**2 / m_dm  * sigma * (-1 * exponential(m_dm,Er_max) + exponential(m_dm,Er_min))\n",
    "\n",
    "# In this function, the number of expected events is calculated\n",
    "def expected_events(m_dm,Er_min,Er_max,sigma_SI):\n",
    "    return R(m_dm,Er_min,Er_max,sigma_SI) * 500 * kg * 1 * year\n",
    "\n"
   ]
  },
  {
   "cell_type": "code",
   "execution_count": 15,
   "metadata": {},
   "outputs": [
    {
     "name": "stdout",
     "output_type": "stream",
     "text": [
      "The best fit point: mass = 910.298 GeV and sigma = 1.842e-44 cm**2, with a chi square of 292.183 \n",
      "The corresponding expected events with E_recoil = 3 - 10 KeV: 160.1530937798546\n",
      "The corresponding expected events with E_recoil = 10 - 20 KeV: 0.15503871530319263\n"
     ]
    },
    {
     "data": {
      "image/png": "[encoded data removed]",
      "text/plain": [
       "<Figure size 432x288 with 2 Axes>"
      ]
     },
     "metadata": {
      "needs_background": "light"
     },
     "output_type": "display_data"
    },
    {
     "data": {
      "image/png": "[encoded data removed]",
      "text/plain": [
       "<Figure size 432x288 with 2 Axes>"
      ]
     },
     "metadata": {
      "needs_background": "light"
     },
     "output_type": "display_data"
    }
   ],
   "source": [
    "dark_matter_masses = np.logspace(np.log10(10*GeV/c**2),np.log10(1000* GeV/c**2),50)\n",
    "sigmas = np.logspace(-47,-43,50)\n",
    "\n",
    "chi_square_min = 1000000\n",
    "matrix = []\n",
    "\n",
    "def chi_to_p(chi,dof):\n",
    "    return stats.chi2.cdf(chi, dof)\n",
    "\n",
    "# Here is chi-square calculated for every possible combination of the dm mass and cross section from the created lists.\n",
    "# The best-fit point are the corresponding values of dm mass and cross section when the chi-square value is the lowest.\n",
    "for j in range(len(dark_matter_masses)):\n",
    "    m = dark_matter_masses[j]\n",
    "    matrix.append([])\n",
    "    for i in range(len(sigmas)):\n",
    "        s = sigmas[i]\n",
    "        first_bin = expected_events(m,3,10,s)\n",
    "        second_bin = expected_events(m,10,20,s)\n",
    "        chi_square = chisquare([10,5],[first_bin,second_bin])\n",
    "        p_value = chi_to_p(chi_square[0],2)\n",
    "        matrix[j].append(chi_square[0])\n",
    "        \n",
    "        \n",
    "        if chi_square[0] < chi_square_min:\n",
    "            i_min = i\n",
    "            j_min = j\n",
    "            chi_square_min = chi_square[0]\n",
    "            mass_dm_min = m\n",
    "            sigma_min = s\n",
    "            \n",
    "# print the minimum chi-square value with the corresponding dm mass and cross section\n",
    "# Also print the corresponding expected events\n",
    "print(\"The best fit point: mass = %.3f GeV and sigma = %.3e cm**2, with a chi square of %.3f \" %(mass_dm_min * c**2 /GeV,sigma_min,chi_square_min))\n",
    "print(\"The corresponding expected events with E_recoil = 3 - 10 KeV:\",expected_events(mass_dm_min,3,10,sigma_min))\n",
    "print(\"The corresponding expected events with E_recoil = 10 - 20 KeV:\",expected_events(mass_dm_min,10,20,sigma_min))\n",
    "\n",
    "# create a list with the same dimensions as our grid of the contourplot. So we can calculate the chi-square value for every value in the grid.\n",
    "list1, list2, list3, list4,list5 = ([] for i in range(5))\n",
    "my_list = []\n",
    "\n",
    "for j in range(50):\n",
    "    list2.append(10)\n",
    "for j in range(50):\n",
    "    list3.append(5)  \n",
    "for i in range(50):    \n",
    "    list1.append(list2)\n",
    "    list4.append(list3)\n",
    "    \n",
    "my_list.append(list1)\n",
    "my_list.append(list4)\n",
    "\n",
    "# Here we are going to make a contourplot. First we define the function from which we want a contourplot.\n",
    "def f(m,s):\n",
    "    first_bin = expected_events(m * GeV/c**2,3,10,s)\n",
    "    second_bin = expected_events(m*GeV/c**2,10,20,s)\n",
    "    return chisquare(my_list,[first_bin,second_bin])[0]\n",
    "\n",
    "# Now we make 2 contourplots. The only difference is the range in which the plot is shown.\n",
    "# The levels are min chi-square +1 and +4.\n",
    "xs = [0,1,4]\n",
    "level_list = chi_square_min + xs\n",
    "fig, ax = plt.subplots(1,1)\n",
    "X, Y = np.meshgrid(dark_matter_masses*c**2/GeV, sigmas)\n",
    "Z = f(X,Y)\n",
    "a = ax.contourf(X, Y, Z, matrix, levels = level_list)\n",
    "ax.plot(mass_dm_min*c**2/ GeV, sigma_min, 'o', c = 'r',alpha = 0.5, label = 'lowest chi-square')\n",
    "ax.set_yscale('log')\n",
    "ax.set_xscale('log')\n",
    "plt.legend(loc = 'lower right')\n",
    "fig.colorbar(a)\n",
    "ax.set_xlabel('DM mass(GeV/c^2)')\n",
    "ax.set_ylabel('cross-section(cm^2)')\n",
    "ax.set_title('$\\chi^{2}$ values for different $m_{DM}$ and $\\sigma_{DM}$')\n",
    "plt.show()\n",
    "\n",
    "dark_matter_masses = np.logspace(np.log10(200*GeV/c**2),np.log10(1000* GeV/c**2),50)\n",
    "sigmas = np.logspace(-44.5,-43.2,50)\n",
    "\n",
    "xs = [0,1,4]\n",
    "level_list = chi_square_min + xs\n",
    "fig, ax = plt.subplots(1,1)\n",
    "X, Y = np.meshgrid(dark_matter_masses*c**2/GeV, sigmas)\n",
    "Z = f(X,Y)\n",
    "a = ax.contourf(X, Y, Z, matrix, levels = level_list)\n",
    "ax.plot(mass_dm_min*c**2/ GeV, sigma_min, 'o', c = 'r',alpha = 0.5, label = 'lowest chi-square')\n",
    "ax.set_yscale('log')\n",
    "ax.set_xscale('log')\n",
    "plt.legend(loc = 'lower right')\n",
    "fig.colorbar(a)\n",
    "ax.set_xlabel('DM mass(GeV/c^2)')\n",
    "ax.set_ylabel('cross-section(cm^2)')\n",
    "ax.set_title('$\\chi^{2}$ values for different $m_{DM}$ and $\\sigma_{DM}$')\n",
    "plt.show()\n"
   ]
  },
  {
   "cell_type": "markdown",
   "metadata": {},
   "source": [
    "In our plot is the purple the 68% confidence level and the green the 95% confidence level. We created those levels by taking the value of the minimal chi-square and added 1 and 4 to it. Because our graph of the cross-section versus the dm mass is not right, our expected values for a particular dm mass and cross-section is also wrong. This led to high values of our chi-square and thus also for our minimum chi-square. So when we take the minimum chi-square +1 and +4, the chi-square changes relative very little and we get very small 2d confidence levels. So we zoomed in on the contourplot to get a better image of it."
   ]
  }
 ],
 "metadata": {
  "kernelspec": {
   "display_name": "Python 3",
   "language": "python",
   "name": "python3"
  },
  "language_info": {
   "codemirror_mode": {
    "name": "ipython",
    "version": 3
   },
   "file_extension": ".py",
   "mimetype": "text/x-python",
   "name": "python",
   "nbconvert_exporter": "python",
   "pygments_lexer": "ipython3",
   "version": "3.7.3"
  }
 },
 "nbformat": 4,
 "nbformat_minor": 2
}
