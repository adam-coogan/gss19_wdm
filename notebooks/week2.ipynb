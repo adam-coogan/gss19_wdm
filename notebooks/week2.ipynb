{
 "metadata": {
  "kernelspec": {
   "display_name": "Python 3",
   "language": "python",
   "name": "python3"
  },
  "language_info": {
   "codemirror_mode": {
    "name": "ipython",
    "version": 3
   },
   "file_extension": ".py",
   "mimetype": "text/x-python",
   "name": "python",
   "nbconvert_exporter": "python",
   "pygments_lexer": "ipython3",
   "version": "3.7.0"
  },
  "name": "",
  "signature": "sha256:d9987365286c3abe4395cd778c29356793328a0aa9712e4e5374a3a926e4995e"
 },
 "nbformat": 3,
 "nbformat_minor": 0,
 "worksheets": [
  {
   "cells": [
    {
     "cell_type": "markdown",
     "metadata": {},
     "source": [
      "# grappa seminar week 2 : J factor\n",
      "\n",
      "### Mathijs Laan, Pepijn Clarijn, Kerwin Buysman, Harm van Leijen"
     ]
    },
    {
     "cell_type": "code",
     "collapsed": false,
     "input": [
      "import matplotlib.pyplot as plt\n",
      "import pandas as pd\n",
      "import numpy as np\n",
      "import math\n",
      "import pandas as pd\n",
      "from sympy.solvers import solve\n",
      "from sympy import Symbol\n",
      "import scipy.integrate as integrate\n",
      "import warnings\n",
      "warnings.filterwarnings('ignore')\n",
      "\n",
      "\n",
      "### Here we will define some units, we will work with cgs-units\n",
      "g = 1\n",
      "kg = 1000\n",
      "M_s = 1.9891 * 10**30 * kg\n",
      "Gev = 5.6096 * 10 **26 / kg\n",
      "\n",
      "cm = 1\n",
      "m = 100 * cm\n",
      "pc = 3.08 * 10**18 * cm\n",
      "kpc = 1000 * pc\n",
      "\n",
      "sec = 1.\n",
      "year = 365 *24*3600 * sec\n",
      "\n",
      "\n",
      "### constants\n",
      "G = 6.674 * 10**-8                        # Gravitational constant\n",
      "pi = math.pi\n",
      "t_h = 13.6 * 10**9 * year                 # age of the universe \n",
      "H_0 = 1. /  (t_h)                         # Hubble constant\n",
      "c_vir = 10.                               # virial concentration\n",
      "M_mw = 10**12 * M_s                       # Mass of the milky way\n",
      "rho_c = 1.9*10**-29                       # The critical density of the universe\n",
      "Omega_m = 0.32\n",
      "\n",
      "### The overdensity of virialized halos compared with background\n",
      "Delta_vir = 18*pi**2 + 82*(Omega_m - 1) - 39*(Omega_m-1)**2\n",
      "\n"
     ],
     "language": "python",
     "metadata": {},
     "outputs": [],
     "prompt_number": 22
    },
    {
     "cell_type": "markdown",
     "metadata": {},
     "source": [
      "First we want to calculate some neccesary properties:\n",
      "\n",
      "$r_{vir} = (\\frac{3M}{4 \\pi \\Delta_{vir}\\rho_{c}})^{1/3}$ , $r_{s} = \\frac{r_{vir}}{c_vir}$ and $\\rho_{s} = \\frac{M}{4 \\pi r_{s}^{s} [ln(1+c_{vir}) - c_{vir}/(1+ c_{vir})]}$\n",
      "\n",
      "where $r_{vir}$ is the virial radius, $r_{s}$ is the scale radius and $\\rho_{s}$ is the characteristic density"
     ]
    },
    {
     "cell_type": "code",
     "collapsed": false,
     "input": [
      "def r_vir (M):\n",
      "    return (3*M / (4* pi * Delta_vir * rho_c))**(1/3)\n",
      "\n",
      "def r_s(M):\n",
      "    return r_vir(M)/c_vir\n",
      "\n",
      "def rho_s(M):\n",
      "    one = 4 * pi* r_s(M)**3 \n",
      "    two = (math.log(1 + c_vir) -c_vir / (1 + c_vir))\n",
      "    return M / (one*two)\n",
      "\n",
      "print (\"The value of  r_s = \", round(r_s(M_mw) / kpc,3), 'kpc')\n",
      "\n",
      "print (\"The value of  rho_s = \", round(rho_s(M_mw) * Gev,3), 'GeV cm^-3')"
     ],
     "language": "python",
     "metadata": {},
     "outputs": [
      {
       "output_type": "stream",
       "stream": "stdout",
       "text": [
        "The value of  r_s =  20.195 kpc\n",
        "The value of  rho_s =  0.248 GeV cm^-3\n"
       ]
      }
     ],
     "prompt_number": 2
    },
    {
     "cell_type": "markdown",
     "metadata": {},
     "source": [
      "For the density profile of dark matter we will use the Navarro-Frenk-White (NFW) profile:\n",
      "\n",
      "$\\rho_{NFW} = \\frac{\\rho_{s}}{(r/r_{s})(r/r_{s}+1)^{2}}$\n",
      "\n",
      "where $r_{s}$ is the scale radius. If we plot this we get:"
     ]
    },
    {
     "cell_type": "code",
     "collapsed": false,
     "input": [
      "def NFW_profile(r, M_mw):\n",
      "    return rho_s(M_mw)/((r/r_s(M_mw))*(r/r_s(M_mw) + 1)**2)\n",
      "\n",
      "r_list = np.logspace(-2,5,50)\n",
      "rho_list = []\n",
      "\n",
      "\n",
      "\n",
      "for r_kpc in r_list:\n",
      "    r = r_kpc * kpc\n",
      "    density = NFW_profile(r, M_mw) * Gev\n",
      "    rho_list.append(density)\n",
      "    \n",
      "plt.figure(figsize=(9,5))\n",
      "plt.plot(r_list,rho_list)\n",
      "plt.xscale('log')\n",
      "plt.yscale('log')\n",
      "plt.xlabel(r\"r [kpc]\")\n",
      "plt.ylabel(r\"Density [GeV $cm^{-3}}$]\")\n",
      "plt.title('Dark matter denisty profile')\n",
      "plt.axvline(r_s(M_mw) / kpc, linestyle = ':')\n",
      "plt.axvline(r_vir(M_mw) / kpc, linestyle = ':')\n",
      "plt.text(r_s(M_mw) / kpc,  10**-7,'$r_{s}$', fontsize = 14 )\n",
      "plt.text(r_vir(M_mw) / kpc,  10**-7,'$r_{vir}$', fontsize = 14 )\n",
      "plt.show()\n",
      "\n",
      "\n"
     ],
     "language": "python",
     "metadata": {},
     "outputs": [
      {
       "metadata": {
        "needs_background": "light"
       },
       "output_type": "display_data",
       "png": "[encoded data removed]",
       "text": [
        "<Figure size 648x360 with 1 Axes>"
       ]
      }
     ],
     "prompt_number": 3
    },
    {
     "cell_type": "markdown",
     "metadata": {},
     "source": [
      "Now we want to estimate the flux of dark matter annihilations. To calculate this we will determine the so-called J-factor:\n",
      "\n",
      "$J = \\int d\\Omega \\int dl \\rho^{2}(r(l, \\Omega)) $ \n",
      "\n",
      "First we calculate $dJ/D\\Omega$: \n",
      "\n",
      "$\\frac{dJ}{d\\Omega} = \\int dl \\rho^{2}(r(l,\\Omega))$ \n",
      "\n",
      "We will use the NFW profile for the density and and we will use the cosine rule to write: \n",
      "\n",
      "$r = \\sqrt{r_{0}^{2} + l^{2} - 2 l r_{0} cos{\\psi}}$\n",
      "\n",
      "we will than intergrate the formule from $l=0$ to $l=l_{max}$ with \n",
      "\n",
      "$l_{max} = \\sqrt{R^{2} - r_{0}^{2}sin(\\psi)^{2}} +r_{0}cos(\\psi)$"
     ]
    },
    {
     "cell_type": "code",
     "collapsed": false,
     "input": [
      "R = r_vir(M_mw)\n",
      "r_0 = 8.5 * kpc\n",
      "\n",
      "def l_max(psi):\n",
      "    return (R**2 - r_0**2*np.sin(psi)**2)**0.5 + r_0 * np.cos(psi)\n",
      "\n",
      "def r(l, psi):\n",
      "    return (r_0**2 + l**2 - 2*l*r_0*np.cos(psi))**(0.5)\n",
      "\n",
      "def NFW_profile(l, psi):\n",
      "    return rho_s(M_mw)/((r(l,psi)/r_s(M_mw))*(r(l,psi)/r_s(M_mw) + 1)**2)\n",
      "\n",
      "def d_l_d_sigma(psi):\n",
      "    return integrate.quad(NFW_profile, 0, l_max(psi) , args=(psi))[0]\n",
      "\n",
      "angles = np.linspace(10**-5,pi,100)\n",
      "d_l_d_sigma_list = []\n",
      "for angle in angles:\n",
      "    d_l_d_sigma_list.append(d_l_d_sigma(angle))\n",
      "    \n",
      "fig, ax = plt.subplots()\n",
      "ax.plot(angles * 180 /pi, d_l_d_sigma_list)\n",
      "# ax.set_xscale('log', basex=2)\n",
      "ax.set_xlabel('$\\psi$(degrees)')\n",
      "ax.set_ylabel('$dJ / d\\Omega$')\n",
      "#ax.set_yscale('log')\n",
      "#ax.set_xlim(3,180)\n",
      "# ax.set_ylim(0.1,500)\n",
      "plt.show()\n",
      "\n"
     ],
     "language": "python",
     "metadata": {},
     "outputs": [
      {
       "metadata": {
        "needs_background": "light"
       },
       "output_type": "display_data",
       "png": "[encoded data removed]",
       "text": [
        "<Figure size 432x288 with 1 Axes>"
       ]
      }
     ],
     "prompt_number": 4
    },
    {
     "cell_type": "markdown",
     "metadata": {},
     "source": [
      "we can now estimate J by intergrating this function to $\\Omega$: $J = \\int \\frac{dJ}{d \\Omega} d\\Omega$\n",
      "\n",
      "To do this we rewrite $d \\Omega$ as $2 \\pi sin(\\psi)d\\psi$ and integrate to $\\psi$ "
     ]
    },
    {
     "cell_type": "code",
     "collapsed": false,
     "input": [
      "def J_int(psi):\n",
      "    return 2*pi* np.sin(psi)*d_l_d_sigma(psi)\n",
      "\n",
      "def J(min_psi,max_psi):\n",
      "    return integrate.quad(J_int,min_psi,max_psi)[0]\n",
      "\n",
      "print ('J around the Galactic center within 0.5 degrees is equal to', J(10**-5,0.5))"
     ],
     "language": "python",
     "metadata": {},
     "outputs": [
      {
       "output_type": "stream",
       "stream": "stdout",
       "text": [
        "J around the Galactic center within 0.5 degrees is equal to 0.06630345070262675\n"
       ]
      }
     ],
     "prompt_number": 8
    },
    {
     "cell_type": "markdown",
     "metadata": {},
     "source": [
      "Here we integrated from 10e-5 until 0.5 degrees. The reason is that our function has an asymptote at zero. Now we only need to show that the integration from 0 to 10e-5 is negligible."
     ]
    },
    {
     "cell_type": "code",
     "collapsed": false,
     "input": [
      "list_small_orders = [10**-5,10**-6,10**-7,10**-8,10**-9,10**-10,10**-11]\n",
      "\n",
      "for i in range(6):\n",
      "    minimum = list_small_orders[i + 1]\n",
      "    maximum = list_small_orders[i]\n",
      "    print ('J around the Galactic center between %0.1e and %0.1e degrees is equal to' %(minimum,maximum), J(minimum,maximum))"
     ],
     "language": "python",
     "metadata": {},
     "outputs": [
      {
       "output_type": "stream",
       "stream": "stdout",
       "text": [
        "J around the Galactic center between 1.0e-06 and 1.0e-05 degrees is equal to 2.1007787997782774e-10\n",
        "J around the Galactic center between 1.0e-07 and 1.0e-06 degrees is equal to 2.494402705407434e-12\n",
        "J around the Galactic center between 1.0e-08 and 1.0e-07 degrees is equal to 2.8897866614387947e-14\n",
        "J around the Galactic center between 1.0e-09 and 1.0e-08 degrees is equal to 1.2418747815781843e-16\n",
        "J around the Galactic center between 1.0e-10 and 1.0e-09 degrees is equal to 1.2418747815781844e-18\n",
        "J around the Galactic center between 1.0e-11 and 1.0e-10 degrees is equal to 1.2418747815781842e-20\n"
       ]
      }
     ],
     "prompt_number": 23
    },
    {
     "cell_type": "markdown",
     "metadata": {},
     "source": [
      "From these result it is clear that it converges to zero. So the integration from 0 to 10e-5 is indeed negligible in our case."
     ]
    }
   ],
   "metadata": {}
  }
 ]
}